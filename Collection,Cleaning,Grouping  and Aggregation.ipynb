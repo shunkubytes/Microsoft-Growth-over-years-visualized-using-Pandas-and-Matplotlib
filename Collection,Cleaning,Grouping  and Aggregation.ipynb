{
 "cells": [
  {
   "cell_type": "markdown",
   "metadata": {},
   "source": [
    "### Importing necessary modules "
   ]
  },
  {
   "cell_type": "code",
   "execution_count": 1,
   "metadata": {},
   "outputs": [],
   "source": [
    "import pandas as pd\n",
    "import numpy as np\n",
    "import pandas_datareader.data as web\n",
    "from datetime import datetime"
   ]
  },
  {
   "cell_type": "markdown",
   "metadata": {},
   "source": [
    "### Using Alpha Vantage API to collect stock data of Microsoft till date"
   ]
  },
  {
   "cell_type": "code",
   "execution_count": 2,
   "metadata": {},
   "outputs": [],
   "source": [
    "df_msft=web.DataReader(\"MSFT\",\"av-daily\",start=datetime(1995,1,1),end=datetime.now(),api_key=\"3BB05VMWE1JEX67I0\")"
   ]
  },
  {
   "cell_type": "code",
   "execution_count": 3,
   "metadata": {},
   "outputs": [
    {
     "data": {
      "text/html": [
       "<div>\n",
       "<style scoped>\n",
       "    .dataframe tbody tr th:only-of-type {\n",
       "        vertical-align: middle;\n",
       "    }\n",
       "\n",
       "    .dataframe tbody tr th {\n",
       "        vertical-align: top;\n",
       "    }\n",
       "\n",
       "    .dataframe thead th {\n",
       "        text-align: right;\n",
       "    }\n",
       "</style>\n",
       "<table border=\"1\" class=\"dataframe\">\n",
       "  <thead>\n",
       "    <tr style=\"text-align: right;\">\n",
       "      <th></th>\n",
       "      <th>open</th>\n",
       "      <th>high</th>\n",
       "      <th>low</th>\n",
       "      <th>close</th>\n",
       "      <th>volume</th>\n",
       "    </tr>\n",
       "  </thead>\n",
       "  <tbody>\n",
       "    <tr>\n",
       "      <th>1999-11-01</th>\n",
       "      <td>93.25</td>\n",
       "      <td>94.19</td>\n",
       "      <td>92.12</td>\n",
       "      <td>92.37</td>\n",
       "      <td>26630600</td>\n",
       "    </tr>\n",
       "    <tr>\n",
       "      <th>1999-11-02</th>\n",
       "      <td>92.75</td>\n",
       "      <td>94.50</td>\n",
       "      <td>91.94</td>\n",
       "      <td>92.56</td>\n",
       "      <td>23174500</td>\n",
       "    </tr>\n",
       "    <tr>\n",
       "      <th>1999-11-03</th>\n",
       "      <td>92.94</td>\n",
       "      <td>93.50</td>\n",
       "      <td>91.50</td>\n",
       "      <td>92.00</td>\n",
       "      <td>22258500</td>\n",
       "    </tr>\n",
       "    <tr>\n",
       "      <th>1999-11-04</th>\n",
       "      <td>92.31</td>\n",
       "      <td>92.75</td>\n",
       "      <td>90.31</td>\n",
       "      <td>91.75</td>\n",
       "      <td>27119700</td>\n",
       "    </tr>\n",
       "    <tr>\n",
       "      <th>1999-11-05</th>\n",
       "      <td>91.81</td>\n",
       "      <td>92.87</td>\n",
       "      <td>90.50</td>\n",
       "      <td>91.56</td>\n",
       "      <td>35083700</td>\n",
       "    </tr>\n",
       "  </tbody>\n",
       "</table>\n",
       "</div>"
      ],
      "text/plain": [
       "             open   high    low  close    volume\n",
       "1999-11-01  93.25  94.19  92.12  92.37  26630600\n",
       "1999-11-02  92.75  94.50  91.94  92.56  23174500\n",
       "1999-11-03  92.94  93.50  91.50  92.00  22258500\n",
       "1999-11-04  92.31  92.75  90.31  91.75  27119700\n",
       "1999-11-05  91.81  92.87  90.50  91.56  35083700"
      ]
     },
     "execution_count": 3,
     "metadata": {},
     "output_type": "execute_result"
    }
   ],
   "source": [
    "df_msft.head()"
   ]
  },
  {
   "cell_type": "markdown",
   "metadata": {},
   "source": [
    "### Cleaning data\n",
    "* We do not need high , low and volume columns for our project\n",
    "* We need to drop any rows with missing values \n",
    "* Fill empty places which are necessary for calculations"
   ]
  },
  {
   "cell_type": "code",
   "execution_count": 4,
   "metadata": {},
   "outputs": [],
   "source": [
    "#dropping unnecessary columns\n",
    "df_msft.drop([\"high\",\"low\",\"volume\"],axis=1,inplace=True)"
   ]
  },
  {
   "cell_type": "code",
   "execution_count": 5,
   "metadata": {},
   "outputs": [
    {
     "data": {
      "text/plain": [
       "Index(['open', 'close'], dtype='object')"
      ]
     },
     "execution_count": 5,
     "metadata": {},
     "output_type": "execute_result"
    }
   ],
   "source": [
    "df_msft.columns"
   ]
  },
  {
   "cell_type": "code",
   "execution_count": 6,
   "metadata": {},
   "outputs": [
    {
     "data": {
      "text/html": [
       "<div>\n",
       "<style scoped>\n",
       "    .dataframe tbody tr th:only-of-type {\n",
       "        vertical-align: middle;\n",
       "    }\n",
       "\n",
       "    .dataframe tbody tr th {\n",
       "        vertical-align: top;\n",
       "    }\n",
       "\n",
       "    .dataframe thead th {\n",
       "        text-align: right;\n",
       "    }\n",
       "</style>\n",
       "<table border=\"1\" class=\"dataframe\">\n",
       "  <thead>\n",
       "    <tr style=\"text-align: right;\">\n",
       "      <th></th>\n",
       "      <th>open</th>\n",
       "      <th>close</th>\n",
       "    </tr>\n",
       "  </thead>\n",
       "  <tbody>\n",
       "    <tr>\n",
       "      <th>1999-11-01</th>\n",
       "      <td>93.25</td>\n",
       "      <td>92.37</td>\n",
       "    </tr>\n",
       "    <tr>\n",
       "      <th>1999-11-02</th>\n",
       "      <td>92.75</td>\n",
       "      <td>92.56</td>\n",
       "    </tr>\n",
       "    <tr>\n",
       "      <th>1999-11-03</th>\n",
       "      <td>92.94</td>\n",
       "      <td>92.00</td>\n",
       "    </tr>\n",
       "    <tr>\n",
       "      <th>1999-11-04</th>\n",
       "      <td>92.31</td>\n",
       "      <td>91.75</td>\n",
       "    </tr>\n",
       "    <tr>\n",
       "      <th>1999-11-05</th>\n",
       "      <td>91.81</td>\n",
       "      <td>91.56</td>\n",
       "    </tr>\n",
       "    <tr>\n",
       "      <th>...</th>\n",
       "      <td>...</td>\n",
       "      <td>...</td>\n",
       "    </tr>\n",
       "    <tr>\n",
       "      <th>2020-10-01</th>\n",
       "      <td>213.49</td>\n",
       "      <td>212.46</td>\n",
       "    </tr>\n",
       "    <tr>\n",
       "      <th>2020-10-02</th>\n",
       "      <td>208.00</td>\n",
       "      <td>206.19</td>\n",
       "    </tr>\n",
       "    <tr>\n",
       "      <th>2020-10-05</th>\n",
       "      <td>207.22</td>\n",
       "      <td>210.38</td>\n",
       "    </tr>\n",
       "    <tr>\n",
       "      <th>2020-10-06</th>\n",
       "      <td>208.82</td>\n",
       "      <td>205.91</td>\n",
       "    </tr>\n",
       "    <tr>\n",
       "      <th>2020-10-07</th>\n",
       "      <td>207.06</td>\n",
       "      <td>209.83</td>\n",
       "    </tr>\n",
       "  </tbody>\n",
       "</table>\n",
       "<p>5268 rows × 2 columns</p>\n",
       "</div>"
      ],
      "text/plain": [
       "              open   close\n",
       "1999-11-01   93.25   92.37\n",
       "1999-11-02   92.75   92.56\n",
       "1999-11-03   92.94   92.00\n",
       "1999-11-04   92.31   91.75\n",
       "1999-11-05   91.81   91.56\n",
       "...            ...     ...\n",
       "2020-10-01  213.49  212.46\n",
       "2020-10-02  208.00  206.19\n",
       "2020-10-05  207.22  210.38\n",
       "2020-10-06  208.82  205.91\n",
       "2020-10-07  207.06  209.83\n",
       "\n",
       "[5268 rows x 2 columns]"
      ]
     },
     "execution_count": 6,
     "metadata": {},
     "output_type": "execute_result"
    }
   ],
   "source": [
    "#dropping rows with missing values\n",
    "df_msft.dropna(how='all')"
   ]
  },
  {
   "cell_type": "code",
   "execution_count": 7,
   "metadata": {},
   "outputs": [
    {
     "data": {
      "text/html": [
       "<div>\n",
       "<style scoped>\n",
       "    .dataframe tbody tr th:only-of-type {\n",
       "        vertical-align: middle;\n",
       "    }\n",
       "\n",
       "    .dataframe tbody tr th {\n",
       "        vertical-align: top;\n",
       "    }\n",
       "\n",
       "    .dataframe thead th {\n",
       "        text-align: right;\n",
       "    }\n",
       "</style>\n",
       "<table border=\"1\" class=\"dataframe\">\n",
       "  <thead>\n",
       "    <tr style=\"text-align: right;\">\n",
       "      <th></th>\n",
       "      <th>open</th>\n",
       "      <th>close</th>\n",
       "    </tr>\n",
       "  </thead>\n",
       "  <tbody>\n",
       "    <tr>\n",
       "      <th>1999-11-01</th>\n",
       "      <td>93.25</td>\n",
       "      <td>92.37</td>\n",
       "    </tr>\n",
       "    <tr>\n",
       "      <th>1999-11-02</th>\n",
       "      <td>92.75</td>\n",
       "      <td>92.56</td>\n",
       "    </tr>\n",
       "    <tr>\n",
       "      <th>1999-11-03</th>\n",
       "      <td>92.94</td>\n",
       "      <td>92.00</td>\n",
       "    </tr>\n",
       "    <tr>\n",
       "      <th>1999-11-04</th>\n",
       "      <td>92.31</td>\n",
       "      <td>91.75</td>\n",
       "    </tr>\n",
       "    <tr>\n",
       "      <th>1999-11-05</th>\n",
       "      <td>91.81</td>\n",
       "      <td>91.56</td>\n",
       "    </tr>\n",
       "    <tr>\n",
       "      <th>...</th>\n",
       "      <td>...</td>\n",
       "      <td>...</td>\n",
       "    </tr>\n",
       "    <tr>\n",
       "      <th>2020-10-01</th>\n",
       "      <td>213.49</td>\n",
       "      <td>212.46</td>\n",
       "    </tr>\n",
       "    <tr>\n",
       "      <th>2020-10-02</th>\n",
       "      <td>208.00</td>\n",
       "      <td>206.19</td>\n",
       "    </tr>\n",
       "    <tr>\n",
       "      <th>2020-10-05</th>\n",
       "      <td>207.22</td>\n",
       "      <td>210.38</td>\n",
       "    </tr>\n",
       "    <tr>\n",
       "      <th>2020-10-06</th>\n",
       "      <td>208.82</td>\n",
       "      <td>205.91</td>\n",
       "    </tr>\n",
       "    <tr>\n",
       "      <th>2020-10-07</th>\n",
       "      <td>207.06</td>\n",
       "      <td>209.83</td>\n",
       "    </tr>\n",
       "  </tbody>\n",
       "</table>\n",
       "<p>5268 rows × 2 columns</p>\n",
       "</div>"
      ],
      "text/plain": [
       "              open   close\n",
       "1999-11-01   93.25   92.37\n",
       "1999-11-02   92.75   92.56\n",
       "1999-11-03   92.94   92.00\n",
       "1999-11-04   92.31   91.75\n",
       "1999-11-05   91.81   91.56\n",
       "...            ...     ...\n",
       "2020-10-01  213.49  212.46\n",
       "2020-10-02  208.00  206.19\n",
       "2020-10-05  207.22  210.38\n",
       "2020-10-06  208.82  205.91\n",
       "2020-10-07  207.06  209.83\n",
       "\n",
       "[5268 rows x 2 columns]"
      ]
     },
     "execution_count": 7,
     "metadata": {},
     "output_type": "execute_result"
    }
   ],
   "source": [
    "#filling single cell with missing values with 'nan' so that those cells can be avoided during calculaions such as count\n",
    "df_msft.replace([\" \",\"missing\"],np.nan)\n",
    "#using \"inplace=True\" is recommended to make changes permanant"
   ]
  },
  {
   "cell_type": "markdown",
   "metadata": {},
   "source": [
    "### Applying aggregations and resampling based on date-time index"
   ]
  },
  {
   "cell_type": "code",
   "execution_count": 8,
   "metadata": {},
   "outputs": [],
   "source": [
    "# calculating daily growth based on [growth=close-open]\n",
    "df_msft[\"growth\"]=df_msft[\"close\"]-df_msft[\"open\"]"
   ]
  },
  {
   "cell_type": "code",
   "execution_count": 9,
   "metadata": {},
   "outputs": [
    {
     "data": {
      "text/html": [
       "<div>\n",
       "<style scoped>\n",
       "    .dataframe tbody tr th:only-of-type {\n",
       "        vertical-align: middle;\n",
       "    }\n",
       "\n",
       "    .dataframe tbody tr th {\n",
       "        vertical-align: top;\n",
       "    }\n",
       "\n",
       "    .dataframe thead th {\n",
       "        text-align: right;\n",
       "    }\n",
       "</style>\n",
       "<table border=\"1\" class=\"dataframe\">\n",
       "  <thead>\n",
       "    <tr style=\"text-align: right;\">\n",
       "      <th></th>\n",
       "      <th>open</th>\n",
       "      <th>close</th>\n",
       "      <th>growth</th>\n",
       "    </tr>\n",
       "  </thead>\n",
       "  <tbody>\n",
       "    <tr>\n",
       "      <th>1999-11-01</th>\n",
       "      <td>93.25</td>\n",
       "      <td>92.37</td>\n",
       "      <td>-0.88</td>\n",
       "    </tr>\n",
       "    <tr>\n",
       "      <th>1999-11-02</th>\n",
       "      <td>92.75</td>\n",
       "      <td>92.56</td>\n",
       "      <td>-0.19</td>\n",
       "    </tr>\n",
       "    <tr>\n",
       "      <th>1999-11-03</th>\n",
       "      <td>92.94</td>\n",
       "      <td>92.00</td>\n",
       "      <td>-0.94</td>\n",
       "    </tr>\n",
       "    <tr>\n",
       "      <th>1999-11-04</th>\n",
       "      <td>92.31</td>\n",
       "      <td>91.75</td>\n",
       "      <td>-0.56</td>\n",
       "    </tr>\n",
       "    <tr>\n",
       "      <th>1999-11-05</th>\n",
       "      <td>91.81</td>\n",
       "      <td>91.56</td>\n",
       "      <td>-0.25</td>\n",
       "    </tr>\n",
       "  </tbody>\n",
       "</table>\n",
       "</div>"
      ],
      "text/plain": [
       "             open  close  growth\n",
       "1999-11-01  93.25  92.37   -0.88\n",
       "1999-11-02  92.75  92.56   -0.19\n",
       "1999-11-03  92.94  92.00   -0.94\n",
       "1999-11-04  92.31  91.75   -0.56\n",
       "1999-11-05  91.81  91.56   -0.25"
      ]
     },
     "execution_count": 9,
     "metadata": {},
     "output_type": "execute_result"
    }
   ],
   "source": [
    "df_msft.head()"
   ]
  },
  {
   "cell_type": "code",
   "execution_count": 10,
   "metadata": {},
   "outputs": [],
   "source": [
    "#transforming the index into date-time series \n",
    "df_msft.index=pd.to_datetime(df_msft.index)"
   ]
  },
  {
   "cell_type": "code",
   "execution_count": 11,
   "metadata": {},
   "outputs": [],
   "source": [
    "#scraping month and year from date-time index \n",
    "df_msft[\"month\"]=[i.month for i in df_msft.index]\n",
    "df_msft[\"year\"]=[i.year for i in df_msft.index]    "
   ]
  },
  {
   "cell_type": "code",
   "execution_count": 12,
   "metadata": {},
   "outputs": [],
   "source": [
    "grwth_year=df_msft.groupby([\"year\"]).growth.mean()"
   ]
  },
  {
   "cell_type": "code",
   "execution_count": 13,
   "metadata": {},
   "outputs": [],
   "source": [
    "grwth_year=round(grwth_year,2)"
   ]
  },
  {
   "cell_type": "code",
   "execution_count": 14,
   "metadata": {},
   "outputs": [
    {
     "data": {
      "text/plain": [
       "year\n",
       "1999    0.64\n",
       "2000   -0.21\n",
       "2001    0.15\n",
       "2002   -0.03\n",
       "2003   -0.04\n",
       "2004   -0.01\n",
       "2005   -0.00\n",
       "2006    0.03\n",
       "2007    0.01\n",
       "2008   -0.04\n",
       "2009    0.04\n",
       "2010   -0.01\n",
       "2011    0.01\n",
       "2012   -0.01\n",
       "2013    0.05\n",
       "2014    0.02\n",
       "2015    0.05\n",
       "2016    0.03\n",
       "2017    0.03\n",
       "2018   -0.09\n",
       "2019    0.04\n",
       "2020    0.14\n",
       "Name: growth, dtype: float64"
      ]
     },
     "execution_count": 14,
     "metadata": {},
     "output_type": "execute_result"
    }
   ],
   "source": [
    "#average growth per year \n",
    "grwth_year"
   ]
  },
  {
   "cell_type": "code",
   "execution_count": 15,
   "metadata": {},
   "outputs": [],
   "source": [
    "#calculating highest and lowest price achieved in years\n",
    "high_year=df_msft.groupby([\"year\"]).max().close\n",
    "low_year=df_msft.groupby([\"year\"]).min().close"
   ]
  },
  {
   "cell_type": "code",
   "execution_count": 16,
   "metadata": {},
   "outputs": [],
   "source": [
    "#average stock price per year\n",
    "avg_stck_year=df_msft.groupby([\"year\"]).mean().close"
   ]
  },
  {
   "cell_type": "code",
   "execution_count": 17,
   "metadata": {},
   "outputs": [
    {
     "data": {
      "text/plain": [
       "year\n",
       "1999     98.020465\n",
       "2000     76.219603\n",
       "2001     62.542460\n",
       "2002     54.549048\n",
       "2003     29.238214\n",
       "2004     27.124718\n",
       "2005     25.871031\n",
       "2006     26.290792\n",
       "2007     30.445876\n",
       "2008     26.647508\n",
       "2009     22.976556\n",
       "2010     27.058353\n",
       "2011     26.052157\n",
       "2012     29.820274\n",
       "2013     32.491389\n",
       "2014     42.453343\n",
       "2015     46.713571\n",
       "2016     55.259306\n",
       "2017     71.984024\n",
       "2018    101.033984\n",
       "2019    130.382024\n",
       "2020    186.179485\n",
       "Name: close, dtype: float64"
      ]
     },
     "execution_count": 17,
     "metadata": {},
     "output_type": "execute_result"
    }
   ],
   "source": [
    "avg_stck_year"
   ]
  },
  {
   "cell_type": "markdown",
   "metadata": {},
   "source": [
    "### Combining all processed data and writing out to file"
   ]
  },
  {
   "cell_type": "code",
   "execution_count": 23,
   "metadata": {},
   "outputs": [],
   "source": [
    "# Combining using pandas concat function\n",
    "df_processed=pd.concat([grwth_year,high_year,low_year,avg_stck_year],axis=1,ignore_index=True)"
   ]
  },
  {
   "cell_type": "code",
   "execution_count": 25,
   "metadata": {},
   "outputs": [],
   "source": [
    "#renaming columns with meaningfull labels\n",
    "df_processed.rename(columns={0:'growth',1:'high',2:'low',3:'average price'},inplace=True)"
   ]
  },
  {
   "cell_type": "code",
   "execution_count": 26,
   "metadata": {},
   "outputs": [
    {
     "data": {
      "text/html": [
       "<div>\n",
       "<style scoped>\n",
       "    .dataframe tbody tr th:only-of-type {\n",
       "        vertical-align: middle;\n",
       "    }\n",
       "\n",
       "    .dataframe tbody tr th {\n",
       "        vertical-align: top;\n",
       "    }\n",
       "\n",
       "    .dataframe thead th {\n",
       "        text-align: right;\n",
       "    }\n",
       "</style>\n",
       "<table border=\"1\" class=\"dataframe\">\n",
       "  <thead>\n",
       "    <tr style=\"text-align: right;\">\n",
       "      <th></th>\n",
       "      <th>growth</th>\n",
       "      <th>high</th>\n",
       "      <th>low</th>\n",
       "      <th>average price</th>\n",
       "    </tr>\n",
       "    <tr>\n",
       "      <th>year</th>\n",
       "      <th></th>\n",
       "      <th></th>\n",
       "      <th></th>\n",
       "      <th></th>\n",
       "    </tr>\n",
       "  </thead>\n",
       "  <tbody>\n",
       "    <tr>\n",
       "      <th>1999</th>\n",
       "      <td>0.64</td>\n",
       "      <td>119.12</td>\n",
       "      <td>84.940</td>\n",
       "      <td>98.020465</td>\n",
       "    </tr>\n",
       "    <tr>\n",
       "      <th>2000</th>\n",
       "      <td>-0.21</td>\n",
       "      <td>116.56</td>\n",
       "      <td>41.500</td>\n",
       "      <td>76.219603</td>\n",
       "    </tr>\n",
       "    <tr>\n",
       "      <th>2001</th>\n",
       "      <td>0.15</td>\n",
       "      <td>73.68</td>\n",
       "      <td>43.380</td>\n",
       "      <td>62.542460</td>\n",
       "    </tr>\n",
       "    <tr>\n",
       "      <th>2002</th>\n",
       "      <td>-0.03</td>\n",
       "      <td>69.86</td>\n",
       "      <td>42.830</td>\n",
       "      <td>54.549048</td>\n",
       "    </tr>\n",
       "    <tr>\n",
       "      <th>2003</th>\n",
       "      <td>-0.04</td>\n",
       "      <td>56.97</td>\n",
       "      <td>22.800</td>\n",
       "      <td>29.238214</td>\n",
       "    </tr>\n",
       "    <tr>\n",
       "      <th>2004</th>\n",
       "      <td>-0.01</td>\n",
       "      <td>29.98</td>\n",
       "      <td>24.150</td>\n",
       "      <td>27.124718</td>\n",
       "    </tr>\n",
       "    <tr>\n",
       "      <th>2005</th>\n",
       "      <td>-0.00</td>\n",
       "      <td>28.16</td>\n",
       "      <td>23.920</td>\n",
       "      <td>25.871031</td>\n",
       "    </tr>\n",
       "    <tr>\n",
       "      <th>2006</th>\n",
       "      <td>0.03</td>\n",
       "      <td>30.19</td>\n",
       "      <td>21.510</td>\n",
       "      <td>26.290792</td>\n",
       "    </tr>\n",
       "    <tr>\n",
       "      <th>2007</th>\n",
       "      <td>0.01</td>\n",
       "      <td>37.06</td>\n",
       "      <td>26.720</td>\n",
       "      <td>30.445876</td>\n",
       "    </tr>\n",
       "    <tr>\n",
       "      <th>2008</th>\n",
       "      <td>-0.04</td>\n",
       "      <td>35.37</td>\n",
       "      <td>17.530</td>\n",
       "      <td>26.647508</td>\n",
       "    </tr>\n",
       "    <tr>\n",
       "      <th>2009</th>\n",
       "      <td>0.04</td>\n",
       "      <td>31.39</td>\n",
       "      <td>15.150</td>\n",
       "      <td>22.976556</td>\n",
       "    </tr>\n",
       "    <tr>\n",
       "      <th>2010</th>\n",
       "      <td>-0.01</td>\n",
       "      <td>31.39</td>\n",
       "      <td>23.010</td>\n",
       "      <td>27.058353</td>\n",
       "    </tr>\n",
       "    <tr>\n",
       "      <th>2011</th>\n",
       "      <td>0.01</td>\n",
       "      <td>28.87</td>\n",
       "      <td>23.705</td>\n",
       "      <td>26.052157</td>\n",
       "    </tr>\n",
       "    <tr>\n",
       "      <th>2012</th>\n",
       "      <td>-0.01</td>\n",
       "      <td>32.85</td>\n",
       "      <td>26.370</td>\n",
       "      <td>29.820274</td>\n",
       "    </tr>\n",
       "    <tr>\n",
       "      <th>2013</th>\n",
       "      <td>0.05</td>\n",
       "      <td>38.94</td>\n",
       "      <td>26.460</td>\n",
       "      <td>32.491389</td>\n",
       "    </tr>\n",
       "    <tr>\n",
       "      <th>2014</th>\n",
       "      <td>0.02</td>\n",
       "      <td>49.61</td>\n",
       "      <td>34.980</td>\n",
       "      <td>42.453343</td>\n",
       "    </tr>\n",
       "    <tr>\n",
       "      <th>2015</th>\n",
       "      <td>0.05</td>\n",
       "      <td>56.55</td>\n",
       "      <td>40.290</td>\n",
       "      <td>46.713571</td>\n",
       "    </tr>\n",
       "    <tr>\n",
       "      <th>2016</th>\n",
       "      <td>0.03</td>\n",
       "      <td>63.62</td>\n",
       "      <td>48.430</td>\n",
       "      <td>55.259306</td>\n",
       "    </tr>\n",
       "    <tr>\n",
       "      <th>2017</th>\n",
       "      <td>0.03</td>\n",
       "      <td>86.85</td>\n",
       "      <td>62.300</td>\n",
       "      <td>71.984024</td>\n",
       "    </tr>\n",
       "    <tr>\n",
       "      <th>2018</th>\n",
       "      <td>-0.09</td>\n",
       "      <td>115.61</td>\n",
       "      <td>85.010</td>\n",
       "      <td>101.033984</td>\n",
       "    </tr>\n",
       "    <tr>\n",
       "      <th>2019</th>\n",
       "      <td>0.04</td>\n",
       "      <td>158.96</td>\n",
       "      <td>97.400</td>\n",
       "      <td>130.382024</td>\n",
       "    </tr>\n",
       "    <tr>\n",
       "      <th>2020</th>\n",
       "      <td>0.14</td>\n",
       "      <td>231.65</td>\n",
       "      <td>135.420</td>\n",
       "      <td>186.179485</td>\n",
       "    </tr>\n",
       "  </tbody>\n",
       "</table>\n",
       "</div>"
      ],
      "text/plain": [
       "      growth    high      low  average price\n",
       "year                                        \n",
       "1999    0.64  119.12   84.940      98.020465\n",
       "2000   -0.21  116.56   41.500      76.219603\n",
       "2001    0.15   73.68   43.380      62.542460\n",
       "2002   -0.03   69.86   42.830      54.549048\n",
       "2003   -0.04   56.97   22.800      29.238214\n",
       "2004   -0.01   29.98   24.150      27.124718\n",
       "2005   -0.00   28.16   23.920      25.871031\n",
       "2006    0.03   30.19   21.510      26.290792\n",
       "2007    0.01   37.06   26.720      30.445876\n",
       "2008   -0.04   35.37   17.530      26.647508\n",
       "2009    0.04   31.39   15.150      22.976556\n",
       "2010   -0.01   31.39   23.010      27.058353\n",
       "2011    0.01   28.87   23.705      26.052157\n",
       "2012   -0.01   32.85   26.370      29.820274\n",
       "2013    0.05   38.94   26.460      32.491389\n",
       "2014    0.02   49.61   34.980      42.453343\n",
       "2015    0.05   56.55   40.290      46.713571\n",
       "2016    0.03   63.62   48.430      55.259306\n",
       "2017    0.03   86.85   62.300      71.984024\n",
       "2018   -0.09  115.61   85.010     101.033984\n",
       "2019    0.04  158.96   97.400     130.382024\n",
       "2020    0.14  231.65  135.420     186.179485"
      ]
     },
     "execution_count": 26,
     "metadata": {},
     "output_type": "execute_result"
    }
   ],
   "source": [
    "df_processed"
   ]
  },
  {
   "cell_type": "code",
   "execution_count": 28,
   "metadata": {},
   "outputs": [],
   "source": [
    "#writing out data to csv for furthur process\n",
    "df_processed.to_csv(\"data_for_visualization.csv\")"
   ]
  },
  {
   "cell_type": "code",
   "execution_count": null,
   "metadata": {},
   "outputs": [],
   "source": []
  }
 ],
 "metadata": {
  "kernelspec": {
   "display_name": "Python 3",
   "language": "python",
   "name": "python3"
  },
  "language_info": {
   "codemirror_mode": {
    "name": "ipython",
    "version": 3
   },
   "file_extension": ".py",
   "mimetype": "text/x-python",
   "name": "python",
   "nbconvert_exporter": "python",
   "pygments_lexer": "ipython3",
   "version": "3.7.3"
  }
 },
 "nbformat": 4,
 "nbformat_minor": 4
}
